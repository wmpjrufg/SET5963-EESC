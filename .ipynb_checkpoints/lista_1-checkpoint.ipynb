{
 "cells": [
  {
   "cell_type": "markdown",
   "metadata": {
    "id": "2WQyzt0jdnjQ"
   },
   "source": [
    "UNIVERSIDADE FEDERAL DE SANTA CATARINA (UFSC)  \n",
    "LISTA DE EXERCÍCIOS I\n",
    "ALUNO: ENG. CIVIL WANDERLEI M. PEREIRA JUNIOR"
   ]
  },
  {
   "cell_type": "markdown",
   "metadata": {
    "id": "SYzMzeZ7d9oJ"
   },
   "source": [
    "Determinar a área de aço a partir do diagrama simplificado e do diagrama exposto na seção 8.2.10.1 da NBR 6118. Os dados utilizados são: (a) $f_{ck} = 80 MPa$, $d = 62 cm$ e $d^{'} = 5 cm$.\n",
    "\n",
    "A primeira etapa consiste na determinação da força resistente de acordo com o diagrama tensão-deformação escolhido. Para o modelo simplificado amplamanete utilizado o valor é dado por:\n",
    "\n",
    "$$ \\lambda = 0,80 - \\dfrac{f_{ck}-50}{400} $$\n",
    "\n",
    "$$ \\alpha_{c} = 0,85.\\left(1-\\dfrac{f_{ck}-50}{200}\\right) $$\n",
    "\n",
    "$$ M_{d} = (\\lambda.x.d - 0,50.\\lambda^{2}.x^{2}).b_{w}.\\alpha_{c}.f_{cd} $$\n",
    "\n",
    "$$ x = \\dfrac{d\\pm\\sqrt{d^{2}-2\\left(\\dfrac{M_{d}}{b_{w}.\\alpha_{c}.f_{cd}}\\right)}}{\\lambda} $$\n",
    "\n",
    "$$ A_{s} = \\dfrac{M_{d}}{z.f_{yd}} $$\n",
    "\n",
    "$$ z = d - 0,50.\\lambda.x $$\n",
    "\n",
    "Portanto utilizando a formulação acima é possível determinar o valor da área de aço em função do momento fletor de cálculo ($M_{d}$) considerando o diagrama retangular simplificado permitido pela NBR 6118."
   ]
  },
  {
   "cell_type": "code",
   "execution_count": 1,
   "metadata": {
    "colab": {
     "base_uri": "https://localhost:8080/"
    },
    "id": "O_Z5Asjjd2_Z",
    "outputId": "8081d665-9ea1-4ded-fac7-502b52efc2a9"
   },
   "outputs": [
    {
     "name": "stdout",
     "output_type": "stream",
     "text": [
      "[6.859999999999999, 6.859999999999999, 6.859999999999999, 6.859999999999999, 7.540064148369971, 9.464377922814124, 11.405215735772309, 13.363010716663227, 15.338215254243536, 17.33130221729631, 19.342766276633164, 21.37312533888093, 23.422922103827386, 25.492725758594855, 27.583133823628057, 29.69477416746217, 31.828307209524233, 33.98442833287168, 36.16387053185294, 38.367407323266825]\n"
     ]
    }
   ],
   "source": [
    "# DIAGRAMA SIMPLIFICADO\n",
    "import numpy as np\n",
    "import matplotlib.pyplot as plt\n",
    "Msd = np.linspace(0, 100000, 20, endpoint=False)\n",
    "As = []\n",
    "# Dados\n",
    "F_CK = 80\n",
    "PHO = 0.245\n",
    "F_YK = 500\n",
    "D = 62\n",
    "D_LINHA = 5\n",
    "H = 70\n",
    "B_W = 40\n",
    "\n",
    "for i in range(20):\n",
    "    M_D = Msd[i]\n",
    "    LAMBDA = 0.80 - ((F_CK - 50) / 400)\n",
    "    ALPHA_C = (1.00 - ((F_CK - 50) / 200)) * 0.85\n",
    "    F_CD = (F_CK / 1.40) / 10\n",
    "    PARTE_1 = M_D / (B_W * ALPHA_C * F_CD)\n",
    "    NUMERADOR = D - np.sqrt(D * D - 2 * PARTE_1)\n",
    "    DENOMINADOR = LAMBDA\n",
    "    X = NUMERADOR / DENOMINADOR\n",
    "    #print(X/D)\n",
    "    Z = D - 0.50 * LAMBDA * X\n",
    "    F_YD = (F_YK / 1.15) / 10\n",
    "    A_S = M_D / (Z * F_YD)\n",
    "    A_SMIN = (PHO / 100) * (B_W * H)\n",
    "    if A_S < A_SMIN:\n",
    "        A_S = A_SMIN\n",
    "    As.append(A_S)\n",
    "print(As)"
   ]
  },
  {
   "cell_type": "code",
   "execution_count": 2,
   "metadata": {
    "colab": {
     "base_uri": "https://localhost:8080/",
     "height": 281
    },
    "id": "_Te6E7aFshVa",
    "outputId": "e5e3ab0e-7083-451c-d432-15aa0254bbb6"
   },
   "outputs": [
    {
     "data": {
      "image/png": "[encoded data removed]",
      "text/plain": [
       "<Figure size 432x288 with 1 Axes>"
      ]
     },
     "metadata": {
      "needs_background": "light",
      "tags": []
     },
     "output_type": "display_data"
    }
   ],
   "source": [
    "plt.plot(Msd, As, 'r--')\n",
    "plt.xlabel('Msd $kN.cm$')\n",
    "plt.ylabel('As $cm^{2}$')\n",
    "plt.show()"
   ]
  },
  {
   "cell_type": "code",
   "execution_count": null,
   "metadata": {
    "id": "sdEUShT8uLMj"
   },
   "outputs": [],
   "source": [
    "# DIAGRAMA ESTABELECIDO PELA SEÇAO 8.2.10.1\n",
    "N = 1.40 + 23.40 * ((90 - F_CK) / 100) ** 4\n",
    "EPSILON_C2 = 2.0 + 0.085 * (F_CK - 50) ** 0.53\n",
    "EPSILON_CU = 2.6 + 35 * ((90 - F_CK) / 100) ** 4\n",
    "print(EPSILON_C2)\n",
    "print(EPSILON_CU)\n",
    "print(N)\n",
    "#SIGMA_CK = 0.85 * F_CK *(1 - (1 - (EPSILON_C / EPSILON_C2) ** N))\n",
    "print(SIGMA_CK)"
   ]
  }
 ],
 "metadata": {
  "colab": {
   "name": "lista 1.ipynb",
   "provenance": [],
   "toc_visible": true
  },
  "kernelspec": {
   "display_name": "Python 3",
   "language": "python",
   "name": "python3"
  },
  "language_info": {
   "codemirror_mode": {
    "name": "ipython",
    "version": 3
   },
   "file_extension": ".py",
   "mimetype": "text/x-python",
   "name": "python",
   "nbconvert_exporter": "python",
   "pygments_lexer": "ipython3",
   "version": "3.8.3"
  }
 },
 "nbformat": 4,
 "nbformat_minor": 1
}
