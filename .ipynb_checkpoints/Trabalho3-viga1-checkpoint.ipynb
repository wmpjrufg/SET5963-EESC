{
 "cells": [
  {
   "cell_type": "markdown",
   "metadata": {},
   "source": [
    "### **Bibliotecas para cálculo e montagem dos gráficos**"
   ]
  },
  {
   "cell_type": "code",
   "execution_count": 1,
   "metadata": {},
   "outputs": [],
   "source": [
    "import numpy as np\n",
    "import sympy as sp\n",
    "import matplotlib.pyplot as plt\n",
    "\n",
    "def propriedades_no_estadio_i(h, bf, bw, hf, asTrac, alfa, d):\n",
    "    area = (bf - bw)*hf + bw*h + asTrac*(alfa - 1)\n",
    "    linhaNeutra = ((bf - bw)*((hf**2)/2) + bw*((h**2)/2) + asTrac*(alfa - 1)*d)/area\n",
    "    inercia = ((bf - bw)*hf**3)/12 + (bw*h**3)/12 + (bf - bw)*hf*(linhaNeutra - hf/2)**2 + bw*h*(linhaNeutra - h/2)**2 + asTrac*(alfa - 1)*(linhaNeutra - d)**2\n",
    "    return area, linhaNeutra, inercia\n",
    "\n",
    "def propriedades_no_estadio_ii(h, bf, bw, hf, asTrac, asComp, alfa, d, dlinha):\n",
    "#    print(h, bf, bw, hf, asTrac, asComp, alfa, d, dlinha)\n",
    "    if bf <= bw:\n",
    "        a1 = bw/2\n",
    "        a2 = hf*(bf - bw) + (alfa - 1)*asComp + alfa*asTrac\n",
    "        a3 = -dlinha*(alfa - 1)*asComp - d*alfa*asTrac - (hf**2)/2*(bf - bw)\n",
    "        linhaNeutra = (-a2 + np.sqrt(a2**2 - 4*a1*a3))/(2*a1)\n",
    "#        print(\"if 1 a1 = \", a1)\n",
    "#        print(\"if 1 a2 = \", a2)\n",
    "#        print(\"if 1 a3 = \", a3)\n",
    "#        print(\"if 1 x  = \", linhaNeutra)\n",
    "    elif bf > bw:\n",
    "        a1 = bf/2\n",
    "        a2 = hf*(0) + (alfa - 1)*asComp + alfa*asTrac\n",
    "        a3 = -dlinha*(alfa - 1)*asComp - d*alfa*asTrac - (hf**2)/2*(0)\n",
    "        linhaNeutra = (-a2 + (a2**2 - 4*a1*a3)**0.50)/(2*a1)\n",
    "#        print(\"if 2 a1 = \", a1)\n",
    "#        print(\"if 2 a2 = \", a2)\n",
    "#        print(\"if 2 a3 = \", a3)\n",
    "#        print(\"if 2 x  = \", linhaNeutra)\n",
    "        if linhaNeutra > hf:\n",
    "            a1 = bw/2\n",
    "            a2 = hf*(bf - bw) + (alfa - 1)*asComp + alfa*asTrac\n",
    "            a3 = -dlinha*(alfa - 1)*asComp - d*alfa*asTrac - (hf**2)/2*(bf - bw)\n",
    "            linhaNeutra = (-a2 + np.sqrt(a2**2 - 4*a1*a3))/(2*a1)    \n",
    "#            print(\"if 3 a1 = \", a1)\n",
    "#            print(\"if 3 a2 = \", a2)\n",
    "#            print(\"if 3 a3 = \", a3)\n",
    "#            print(\"if 3 x  = \", linhaNeutra)\n",
    "#    print(linhaNeutra)\n",
    "    if linhaNeutra <= hf:\n",
    "        inercia = (bf*linhaNeutra**3)/3 + alfa*asTrac*(linhaNeutra - d)**2 + (alfa - 1)*asComp*(linhaNeutra - dlinha)**2\n",
    "#        print(inercia)\n",
    "    else:\n",
    "        inercia = ((bf - bw)*hf**3)/12 + (bw*linhaNeutra**3)/3 + (bf - bw)*(linhaNeutra - hf/2)**2 + alfa*asTrac*(linhaNeutra - d)**2 + (alfa - 1)*asComp*(linhaNeutra - dlinha)**2\n",
    "#        print(inercia)\n",
    "    return linhaNeutra, inercia"
   ]
  },
  {
   "cell_type": "code",
   "execution_count": 2,
   "metadata": {},
   "outputs": [],
   "source": [
    "# Dados de entrada\n",
    "fck = 30\n",
    "Eci = 3100  # Valores retirados da Tabela 8.1 da NBR 6118 (ABNT, 2014)\n",
    "Ecs = 3100  # Valores retirados da Tabela 8.1 da NBR 6118 (ABNT, 2014)\n",
    "Es = 20000\n",
    "alpha = 1.5\n",
    "h = 50\n",
    "bw = 25\n",
    "bf = bw\n",
    "hf = 0\n",
    "cob = 2.5\n",
    "fiEstribo = 5\n",
    "fiLongTrac = 12.5\n",
    "fiLongComp = 5\n",
    "AsTrac = 2*1.25\n",
    "AsComp = 2*0.20\n",
    "fy = 500\n",
    "# Determinação do fctm do concreto (MPa)\n",
    "fctm = 0.30*fck**(2/3)\n",
    "fctinf = 0.70*fctm\n",
    "# Determinação da relação entre módulos de elasticidade\n",
    "alfaE = Es/Eci\n",
    "# Determinação das alturas úteis \n",
    "d = h - (cob + fiEstribo/10 + fiLongTrac/2/10)\n",
    "dlinha = cob + fiEstribo/10 + fiLongComp/2/10 \n",
    "\n",
    "# Listas vazias para armazenamento e armazenamento dos valores iniciais\n",
    "curv = []\n",
    "momt = []\n",
    "curv.append(0)\n",
    "momt.append(0)"
   ]
  },
  {
   "cell_type": "markdown",
   "metadata": {},
   "source": [
    "**Passo 1: Determinação do limite entre o Estádio I e Estádio II**"
   ]
  },
  {
   "cell_type": "code",
   "execution_count": 3,
   "metadata": {},
   "outputs": [
    {
     "name": "stdout",
     "output_type": "stream",
     "text": [
      "Área da seção (Ac)      =  1263.6290322580646 cm^2\n",
      "Linha Neutra (x)        =  25.230542791499136 cm\n",
      "Inércia Estádio I (Ii)  =  266576.4818770343 cm^4\n",
      "Momento Resistente (Mr) =  3273.131090457643 kN.cm\n",
      "EpsilonC                =  0.006540411960231684 %\n",
      "Momento 1               =  3273.131090457643 kN.cm\n",
      "Curvatura 1             =  2.592259712476471e-06 cm^-1\n"
     ]
    }
   ],
   "source": [
    "# Determinação das propriedades no Estádio I conforme chamada de biblioteca\n",
    "Ac, xi, Ii = propriedades_no_estadio_i(h, bf, bw, hf, AsTrac, alfaE, d)\n",
    "# Determinação do momento resistente\n",
    "Mr = (alpha*(fctinf/10)*Ii)/(h-xi)\n",
    "M1 = Mr\n",
    "# Determinação da deformação e da curvatura\n",
    "epsilonC = (fctinf/10)/Eci\n",
    "curvatura1 = epsilonC/xi\n",
    "# Impressões\n",
    "print('Área da seção (Ac)      = ', Ac, 'cm^2')\n",
    "print('Linha Neutra (x)        = ', xi, 'cm')\n",
    "print('Inércia Estádio I (Ii)  = ', Ii, 'cm^4')\n",
    "print('Momento Resistente (Mr) = ', Mr, 'kN.cm')\n",
    "print('EpsilonC                = ', epsilonC*100, '%')\n",
    "print('Momento 1               = ', M1, 'kN.cm')\n",
    "print('Curvatura 1             = ', curvatura1, 'cm^-1')\n",
    "# Armazenamento nas listas\n",
    "curv.append(curvatura1)\n",
    "momt.append(M1)"
   ]
  },
  {
   "cell_type": "markdown",
   "metadata": {},
   "source": [
    "**Passo 2: Determinação da nova linha neutra para seção fissurada**"
   ]
  },
  {
   "cell_type": "code",
   "execution_count": 4,
   "metadata": {},
   "outputs": [
    {
     "name": "stdout",
     "output_type": "stream",
     "text": [
      "Linha Neutra Estádio II  =  7.074152999765129 cm\n",
      "Inércia Estádio II (Ii)  =  27894.229317812104 cm^4\n",
      "Momento 2                =  3273.131090457643 kN.cm\n",
      "Curvatura 2              =  3.7851869891349993e-05 cm^-1\n"
     ]
    }
   ],
   "source": [
    "# Proriedades da seção no Estádio II\n",
    "xii, Iii = propriedades_no_estadio_ii(h, bf, bw, hf, AsTrac, AsComp, alfaE, d, dlinha)\n",
    "# Determinação do par momento-curvatura\n",
    "M2 = Mr\n",
    "curvatura2 = M2/(Eci*Iii)\n",
    "# Impressões\n",
    "print('Linha Neutra Estádio II  = ', xii, 'cm')\n",
    "print('Inércia Estádio II (Ii)  = ', Iii, 'cm^4')\n",
    "print('Momento 2                = ', M2, 'kN.cm')\n",
    "print('Curvatura 2              = ', curvatura2, 'cm^-1')\n",
    "# Armazenamento nas listas\n",
    "curv.append(curvatura2)\n",
    "momt.append(M2)"
   ]
  },
  {
   "cell_type": "markdown",
   "metadata": {},
   "source": [
    "**Passo 3: Aumento da curvatura e mudança no módulo de elasticidade do concreto**"
   ]
  },
  {
   "cell_type": "code",
   "execution_count": 5,
   "metadata": {},
   "outputs": [
    {
     "name": "stdout",
     "output_type": "stream",
     "text": [
      "Momento 3            =  5323.211072802158 kN.cm\n",
      "Curvatura 3          =  6.155986037935574e-05 cm^-1\n"
     ]
    }
   ],
   "source": [
    "# Determinação da deformação no concreto para o caso estabelecido\n",
    "epsilonC = (0.45*fck/10)/Ecs\n",
    "# Determinação da curvatura\n",
    "curvatura3 = epsilonC/xii\n",
    "# Determinação do momennto\n",
    "M3 = Mr*(curvatura3/curvatura2)\n",
    "# Impressões\n",
    "print('Momento 3            = ', M3, 'kN.cm')\n",
    "print('Curvatura 3          = ', curvatura3, 'cm^-1')\n",
    "# Armazenamento nas listas\n",
    "curv.append(curvatura3)\n",
    "momt.append(M3)"
   ]
  },
  {
   "cell_type": "markdown",
   "metadata": {},
   "source": [
    "**Passo 4: O escoamento da armadura**"
   ]
  },
  {
   "cell_type": "code",
   "execution_count": 6,
   "metadata": {},
   "outputs": [
    {
     "name": "stdout",
     "output_type": "stream",
     "text": [
      "Vetor solução       =  [-7.22533059796201, 6.25135522005957]\n",
      "Linha Neutra        =  6.25135522005957 cm\n",
      "EpsilonC            =  0.0329262758775809 %\n",
      "Momento 4           =  5484.30723899702 kN.cm\n",
      "Curvatura 4         =  5.26706205590844e-5 cm^-1\n"
     ]
    }
   ],
   "source": [
    "# Estabelecendo as incógnitas do problema para biblioteca sympy\n",
    "xEpsilonY = sp.Symbol('xEpsilonY')\n",
    "# Tensão no concreto para um escoamento na armadura (epsilon y = 0,207%)\n",
    "solucao = sp.solve(AsTrac * fy / 0.10e2 - 0.1656000000e-2 * bw * xEpsilonY**2 / (d - xEpsilonY) * Ecs)\n",
    "xEpsilonY = solucao[1]\n",
    "# Determinação da deformação no concreto e a curvatura\n",
    "epsilonC = (2.07/1000)*(xEpsilonY/(d - xii))\n",
    "curvatura4 = epsilonC/xEpsilonY\n",
    "# Determinação do momento para a curvatura 4\n",
    "M4 = AsTrac*(fy/10)*(d - 0.40*xEpsilonY)\n",
    "# Impressões\n",
    "print('Vetor solução       = ', solucao)\n",
    "print('Linha Neutra        = ', xEpsilonY, 'cm')\n",
    "print('EpsilonC            = ', epsilonC*100, '%')\n",
    "print('Momento 4           = ', M4, 'kN.cm')\n",
    "print('Curvatura 4         = ', curvatura4, 'cm^-1')\n",
    "# Armazenamento nas listas\n",
    "curv.append(curvatura4)\n",
    "momt.append(M4)"
   ]
  },
  {
   "cell_type": "markdown",
   "metadata": {},
   "source": [
    "**Passo 5: Considerando que o concreto atinge o valor de $f_{ck}$ e plastifica completamente a seção comprimida**"
   ]
  },
  {
   "cell_type": "code",
   "execution_count": 7,
   "metadata": {},
   "outputs": [
    {
     "name": "stdout",
     "output_type": "stream",
     "text": [
      "Vetor solução       =  [2.08333333333333]\n",
      "Linha Neutra        =  2.08333333333333 cm\n",
      "EpsilonC            =  0.35000000000000003 %\n",
      "Momento 4           =  5692.70833333333 kN.cm\n",
      "Curvatura 4         =  0.00168000000000000 cm^-1\n"
     ]
    }
   ],
   "source": [
    "# Estabelecendo as incógnitas do problema para biblioteca sympy\n",
    "xEpsilonCu = sp.Symbol('xEpsilonCu')\n",
    "# Tensão no concreto para um escoamento na armadura (epsilon y = 0,207%)\n",
    "solucao = sp.solve(AsTrac * fy / 0.10e2 - 0.8000000000e-1 * bw * xEpsilonCu * fck)\n",
    "xEpsilonCu = solucao[0]\n",
    "# Determinação da deformação no concreto e a curvatura\n",
    "epsilonC = (3.5/1000)\n",
    "curvatura5 = epsilonC/xEpsilonCu\n",
    "# Determinação do momento para a curvatura 4\n",
    "M5 = AsTrac*(fy/10)*(d- 0.40*xEpsilonCu)\n",
    "# Impressões\n",
    "print('Vetor solução       = ', solucao)\n",
    "print('Linha Neutra        = ', xEpsilonCu, 'cm')\n",
    "print('EpsilonC            = ', epsilonC*100, '%')\n",
    "print('Momento 4           = ', M5, 'kN.cm')\n",
    "print('Curvatura 4         = ', curvatura5, 'cm^-1')\n",
    "# Armazenamento nas listas\n",
    "curv.append(curvatura5)\n",
    "momt.append(M5)"
   ]
  },
  {
   "cell_type": "markdown",
   "metadata": {},
   "source": [
    "**Passo 6: Plotagem do diagrama Momento-Curvatura**"
   ]
  },
  {
   "cell_type": "code",
   "execution_count": 8,
   "metadata": {},
   "outputs": [
    {
     "data": {
      "image/png": "[encoded data removed]",
      "text/plain": [
       "<Figure size 432x288 with 1 Axes>"
      ]
     },
     "metadata": {
      "needs_background": "light"
     },
     "output_type": "display_data"
    }
   ],
   "source": [
    "plt.plot(curv, momt,'r--')\n",
    "plt.ylabel('Momento (kN.cm)', fontsize=15)\n",
    "plt.xlabel('$\\phi$ ($cm^{-1}$)', fontsize=15)\n",
    "plt.show()"
   ]
  }
 ],
 "metadata": {
  "kernelspec": {
   "display_name": "Python 3",
   "language": "python",
   "name": "python3"
  },
  "language_info": {
   "codemirror_mode": {
    "name": "ipython",
    "version": 3
   },
   "file_extension": ".py",
   "mimetype": "text/x-python",
   "name": "python",
   "nbconvert_exporter": "python",
   "pygments_lexer": "ipython3",
   "version": "3.8.3"
  }
 },
 "nbformat": 4,
 "nbformat_minor": 4
}
