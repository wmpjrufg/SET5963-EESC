{
 "cells": [
  {
   "cell_type": "markdown",
   "metadata": {},
   "source": [
    "**=================================================     \n",
    "INSTRUÇÕES PARA RODAR O ARQUIVO _ONLINE_    \n",
    "=================================================**    \n",
    "\n",
    "Quem acessar o arquivo via plataforma GITHUB.IO deverá rodar o arquivo seguindo os seguintes passos:\n",
    "\n",
    "> Clique no ícone representado por três argolas **_Execute of Binder_**  no canto superior direito da página;  \n",
    "> Espere o arquivo carregar, leva aguns segundos !!!;  \n",
    "> O menu de execução irá aparecer, clique em **_Kernel_** e depois em **_Restart & Run All_**;  \n",
    "> Caso deseje alterar algum dos dados só clique na célula correpondente, alterar o valor e rode novamente;  \n",
    "> A tabela com os resultados da otimização irá aparecer no console do notebook jupyter.  "
   ]
  },
  {
   "cell_type": "markdown",
   "metadata": {},
   "source": [
    "**=================================================  \n",
    "BIBLIOTECA DE FUNÇÕES  \n",
    "=================================================**  "
   ]
  },
  {
   "cell_type": "code",
   "execution_count": 1,
   "metadata": {},
   "outputs": [
    {
     "name": "stdout",
     "output_type": "stream",
     "text": [
      "Requirement already satisfied: numpy in c:\\programdata\\anaconda3\\lib\\site-packages (1.18.5)\n",
      "Requirement already satisfied: pandas in c:\\programdata\\anaconda3\\lib\\site-packages (1.0.5)\n",
      "Requirement already satisfied: numpy>=1.13.3 in c:\\programdata\\anaconda3\\lib\\site-packages (from pandas) (1.18.5)\n",
      "Requirement already satisfied: python-dateutil>=2.6.1 in c:\\programdata\\anaconda3\\lib\\site-packages (from pandas) (2.8.1)\n",
      "Requirement already satisfied: pytz>=2017.2 in c:\\programdata\\anaconda3\\lib\\site-packages (from pandas) (2020.1)\n",
      "Requirement already satisfied: six>=1.5 in c:\\programdata\\anaconda3\\lib\\site-packages (from python-dateutil>=2.6.1->pandas) (1.15.0)\n"
     ]
    }
   ],
   "source": [
    "!pip install numpy\n",
    "!pip install pandas\n",
    "import numpy as np\n",
    "import pandas as pd"
   ]
  },
  {
   "cell_type": "code",
   "execution_count": 2,
   "metadata": {},
   "outputs": [],
   "source": [
    "def propriedades_no_estadio_i(h, bf, bw, hf, asTrac, alfa, d):\n",
    "    print(h, bf, bw, hf, asTrac, alfa, d)\n",
    "    area = (bf - bw)*hf + bw*h + asTrac*(alfa - 1)\n",
    "    linhaNeutra = ((bf - bw)*((hf**2)/2) + bw*((h**2)/2) + asTrac*(alfa - 1)*d)/area\n",
    "    inercia = ((bf - bw)*hf**3)/12 + (bw*h**3)/12 + (bf - bw)*hf*(linhaNeutra - hf/2)**2 + bw*h*(linhaNeutra - h/2)**2 + asTrac*(alfa - 1)*(linhaNeutra - d)**2\n",
    "    return area, linhaNeutra, inercia\n",
    "\n",
    "def propriedades_no_estadio_ii(h, bf, bw, hf, asTrac, asComp, alfa, d, dlinha):\n",
    "    print(h, bf, bw, hf, asTrac, asComp, alfa, d, dlinha)\n",
    "    if bf <= bw:\n",
    "        a1 = bw/2\n",
    "        a2 = hf*(bf - bw) + (alfa - 1)*asComp + alfa*asTrac\n",
    "        a3 = -dlinha*(alfa - 1)*asComp - d*alfa*asTrac - (hf**2)/2*(bf - bw)\n",
    "        linhaNeutra = (-a2 + np.sqrt(a2**2 - 4*a1*a3))/(2*a1)\n",
    "        print(\"if 1 a1 = \", a1)\n",
    "        print(\"if 1 a2 = \", a2)\n",
    "        print(\"if 1 a3 = \", a3)\n",
    "        print(\"if 1 x = \", linhaNeutra)\n",
    "    elif bf > bw:\n",
    "        a1 = bf/2\n",
    "        a2 = hf*(0) + (alfa - 1)*asComp + alfa*asTrac\n",
    "        a3 = -dlinha*(alfa - 1)*asComp - d*alfa*asTrac - (hf**2)/2*(0)\n",
    "        linhaNeutra = (-a2 + (a2**2 - 4*a1*a3)**0.50)/(2*a1)\n",
    "        print(\"if 2 a1 = \", a1)\n",
    "        print(\"if 2 a2 = \", a2)\n",
    "        print(\"if 2 a3 = \", a3)\n",
    "        print(\"if 2 x = \", linhaNeutra)\n",
    "        if linhaNeutra > hf:\n",
    "            a1 = bw/2\n",
    "            a2 = hf*(bf - bw) + (alfa - 1)*asComp + alfa*asTrac\n",
    "            a3 = -dlinha*(alfa - 1)*asComp - d*alfa*asTrac - (hf**2)/2*(bf - bw)\n",
    "            linhaNeutra = (-a2 + np.sqrt(a2**2 - 4*a1*a3))/(2*a1)    \n",
    "            print(\"if 3 a1 = \", a1)\n",
    "            print(\"if 3 a2 = \", a2)\n",
    "            print(\"if 3 a3 = \", a3)\n",
    "            print(\"if 3 x = \", linhaNeutra)\n",
    "    print(linhaNeutra)\n",
    "    if linhaNeutra <= hf:\n",
    "        inercia = (bf*linhaNeutra**3)/3 + alfa*asTrac*(linhaNeutra - d)**2 + (alfa - 1)*asComp*(linhaNeutra - dlinha)**2\n",
    "        print(inercia)\n",
    "    else:\n",
    "        inercia = ((bf - bw)*hf**3)/12 + (bw*linhaNeutra**3)/3 + (bf - bw)*(linhaNeutra - hf/2)**2 + alfa*asTrac*(linhaNeutra - d)**2 + (alfa - 1)*asComp*(linhaNeutra - dlinha)**2\n",
    "        print(inercia)\n",
    "    return linhaNeutra, inercia\n",
    "\n",
    "def inercia_final(mr, mat, inerI, inerII):\n",
    "    if mat <= mr:\n",
    "        inerM = inerI\n",
    "    elif mat > mr:\n",
    "        mrmat = (mr/mat)**3\n",
    "        inerM = mrmat*inerI + (1 - mrmat)*inerII\n",
    "    return inerM\n",
    "\n",
    "def relacao_momento_curvatura(mat, E, iner):\n",
    "    curvatura = mat/(E*iner)\n",
    "    return curvatura"
   ]
  },
  {
   "cell_type": "markdown",
   "metadata": {},
   "source": [
    "**=================================================  \n",
    "RESOLUÇÃO DO PROBLEMA  \n",
    "=================================================**  "
   ]
  },
  {
   "cell_type": "markdown",
   "metadata": {},
   "source": [
    "Aqui são colocados os dados da viga de concreto conforme exercíco do professor Dr. Ricardo Carrazedo. Os dados devem ser informados para o material e para a seção transversal desejada."
   ]
  },
  {
   "cell_type": "code",
   "execution_count": 3,
   "metadata": {},
   "outputs": [
    {
     "name": "stdout",
     "output_type": "stream",
     "text": [
      "2.896468153816889\n",
      "50 25 25 0 40 9.865 45.4\n",
      "50 25 25 0 40 0.4 9.865 45.4 3.25\n",
      "if 1 a1 =  12.5\n",
      "if 1 a2 =  398.146\n",
      "if 1 a3 =  -17926.3645\n",
      "if 1 x =  25.156291635366735\n",
      "25.156291635366735\n",
      "296077.4928648374\n",
      "momento resist =  7958.763156043016\n",
      "[[0.]\n",
      " [0.]\n",
      " [0.]\n",
      " [0.]\n",
      " [0.]]\n",
      "0\n",
      "0.0\n",
      "375375.485063775\n",
      "1\n",
      "9445.56\n",
      "343514.3382679812\n",
      "2\n",
      "18891.12\n",
      "302007.0985402304\n",
      "3\n",
      "28336.68\n",
      "297834.4130649539\n",
      "4\n",
      "37782.24\n",
      "296818.69357426156\n"
     ]
    }
   ],
   "source": [
    "# Dados relativos aos materiais\n",
    "fck = 30\n",
    "fctm = 0.30*fck**(2/3)\n",
    "E = 2600\n",
    "print(fctm)\n",
    "alfaC = 0.85\n",
    "profLambda = 0.80\n",
    "defSt50 = 2.07/1000\n",
    "defSt60 = 2.48/1000\n",
    "modEAco = 21000\n",
    "asTrac = 5*8\n",
    "asComp = 2*0.20\n",
    "fykTrac = 500\n",
    "fykComp = 600\n",
    "fcd = fck/1.4/10\n",
    "fydTrac = fykTrac/1.15/10\n",
    "fydComp = fykComp/1.15/10\n",
    "\n",
    "# Dados relativos a seção\n",
    "h = 50\n",
    "bw = 25\n",
    "bf = bw\n",
    "hf = 0\n",
    "alfa = 9.865\n",
    "cob = 2.5\n",
    "fiEstribo = 5\n",
    "fiLongTrac = 32\n",
    "fiLongComp = 5\n",
    " \n",
    "d = h - (cob + fiEstribo/10 + fiLongTrac/2/10)\n",
    "dlinha = cob + fiEstribo/10 + fiLongComp/2/10\n",
    "betaX2com3 = 0.26;\n",
    "betaX3com4 = 0.45;\n",
    "\n",
    "pontos = 5 \n",
    "intervaloMrd = np.linspace(0.0, 37782.24, num=pontos)\n",
    "\n",
    "areai, linhaNeutrai, inerI = propriedades_no_estadio_i(h, bf, bw, hf, asTrac, alfa, d)\n",
    "linhaNeutraii, inerII = propriedades_no_estadio_ii(h, bf, bw, hf, asTrac, asComp, alfa, d, dlinha)\n",
    "mr = (1.5*(fctm/10)*inerI)/(h-linhaNeutrai)\n",
    "print(\"momento resist = \", mr)\n",
    "\n",
    "curvatura = np.zeros((pontos, 1))\n",
    "print(curvatura)\n",
    "for contador, mat in enumerate(intervaloMrd):\n",
    "    print(contador)\n",
    "    print(mat)\n",
    "    inercia = inercia_final(mr, mat, inerI, inerII)\n",
    "    print(inercia)\n",
    "    curvatura[contador][0] = relacao_momento_curvatura(mat, E, inercia)"
   ]
  },
  {
   "cell_type": "code",
   "execution_count": 4,
   "metadata": {},
   "outputs": [
    {
     "ename": "NameError",
     "evalue": "name 'area' is not defined",
     "output_type": "error",
     "traceback": [
      "\u001b[1;31m---------------------------------------------------------------------------\u001b[0m",
      "\u001b[1;31mNameError\u001b[0m                                 Traceback (most recent call last)",
      "\u001b[1;32m<ipython-input-4-95e78263b0d1>\u001b[0m in \u001b[0;36m<module>\u001b[1;34m\u001b[0m\n\u001b[1;32m----> 1\u001b[1;33m \u001b[0mprint\u001b[0m\u001b[1;33m(\u001b[0m\u001b[0marea\u001b[0m\u001b[1;33m)\u001b[0m\u001b[1;33m\u001b[0m\u001b[1;33m\u001b[0m\u001b[0m\n\u001b[0m\u001b[0;32m      2\u001b[0m \u001b[0mprint\u001b[0m\u001b[1;33m(\u001b[0m\u001b[0mlinhaNeutra\u001b[0m\u001b[1;33m)\u001b[0m\u001b[1;33m\u001b[0m\u001b[1;33m\u001b[0m\u001b[0m\n\u001b[0;32m      3\u001b[0m \u001b[0mprint\u001b[0m\u001b[1;33m(\u001b[0m\u001b[0minercia\u001b[0m\u001b[1;33m)\u001b[0m\u001b[1;33m\u001b[0m\u001b[1;33m\u001b[0m\u001b[0m\n",
      "\u001b[1;31mNameError\u001b[0m: name 'area' is not defined"
     ]
    }
   ],
   "source": [
    "print(area)\n",
    "print(linhaNeutra)\n",
    "print(inercia)"
   ]
  },
  {
   "cell_type": "code",
   "execution_count": null,
   "metadata": {},
   "outputs": [],
   "source": []
  },
  {
   "cell_type": "code",
   "execution_count": null,
   "metadata": {},
   "outputs": [],
   "source": []
  }
 ],
 "metadata": {
  "kernelspec": {
   "display_name": "Python 3",
   "language": "python",
   "name": "python3"
  },
  "language_info": {
   "codemirror_mode": {
    "name": "ipython",
    "version": 3
   },
   "file_extension": ".py",
   "mimetype": "text/x-python",
   "name": "python",
   "nbconvert_exporter": "python",
   "pygments_lexer": "ipython3",
   "version": "3.8.3"
  }
 },
 "nbformat": 4,
 "nbformat_minor": 4
}
