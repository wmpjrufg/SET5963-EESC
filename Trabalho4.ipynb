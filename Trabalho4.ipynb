{
 "cells": [
  {
   "cell_type": "code",
   "execution_count": 1,
   "metadata": {},
   "outputs": [],
   "source": [
    "import numpy as np\n",
    "import matplotlib.pyplot as plt\n",
    "\n",
    "def propriedades_no_estadio_i(h, bf, bw, hf, asTrac, alfa, d):\n",
    "    area = (bf - bw)*hf + bw*h + asTrac*(alfa - 1)\n",
    "    linhaNeutra = ((bf - bw)*((hf**2)/2) + bw*((h**2)/2) + asTrac*(alfa - 1)*d)/area\n",
    "    inercia = ((bf - bw)*hf**3)/12 + (bw*h**3)/12 + (bf - bw)*hf*(linhaNeutra - hf/2)**2 + bw*h*(linhaNeutra - h/2)**2 + asTrac*(alfa - 1)*(linhaNeutra - d)**2\n",
    "    return area, linhaNeutra, inercia\n",
    "\n",
    "def propriedades_no_estadio_ii(h, bf, bw, hf, asTrac, asComp, alfa, d, dlinha):\n",
    "    if bf <= bw:\n",
    "        a1 = bw/2\n",
    "        a2 = hf*(bf - bw) + (alfa - 1)*asComp + alfa*asTrac\n",
    "        a3 = -dlinha*(alfa - 1)*asComp - d*alfa*asTrac - (hf**2)/2*(bf - bw)\n",
    "        linhaNeutra = (-a2 + np.sqrt(a2**2 - 4*a1*a3))/(2*a1)\n",
    "    elif bf > bw:\n",
    "        a1 = bf/2\n",
    "        a2 = hf*(0) + (alfa - 1)*asComp + alfa*asTrac\n",
    "        a3 = -dlinha*(alfa - 1)*asComp - d*alfa*asTrac - (hf**2)/2*(0)\n",
    "        linhaNeutra = (-a2 + (a2**2 - 4*a1*a3)**0.50)/(2*a1)\n",
    "        if linhaNeutra > hf:\n",
    "            a1 = bw/2\n",
    "            a2 = hf*(bf - bw) + (alfa - 1)*asComp + alfa*asTrac\n",
    "            a3 = -dlinha*(alfa - 1)*asComp - d*alfa*asTrac - (hf**2)/2*(bf - bw)\n",
    "            linhaNeutra = (-a2 + np.sqrt(a2**2 - 4*a1*a3))/(2*a1)    \n",
    "    if linhaNeutra <= hf:\n",
    "        inercia = (bf*linhaNeutra**3)/3 + alfa*asTrac*(linhaNeutra - d)**2 + (alfa - 1)*asComp*(linhaNeutra - dlinha)**2\n",
    "    else:\n",
    "        inercia = ((bf - bw)*hf**3)/12 + (bw*linhaNeutra**3)/3 + (bf - bw)*(linhaNeutra - hf/2)**2 + alfa*asTrac*(linhaNeutra - d)**2 + (alfa - 1)*asComp*(linhaNeutra - dlinha)**2\n",
    "    return linhaNeutra, inercia\n",
    "\n",
    "def inercia_branson(Mr, Mat,Ii, Iii):\n",
    "    MrMat = (Mr/ Mat)**3\n",
    "    inerciaM = MrMat*Ii + (1-MrMat)*Iii\n",
    "    return inerciaM\n",
    "\n",
    "def flecha_viga_bi(EinerciaM, Pk, L):\n",
    "    flecha = 5*Pk*(L**4)*(1/(384*EinerciaM))\n",
    "    return flecha\n"
   ]
  },
  {
   "cell_type": "code",
   "execution_count": 2,
   "metadata": {},
   "outputs": [],
   "source": [
    "# Dados de entrada\n",
    "fck = 30\n",
    "Eci = 3100  # Valores retirados da Tabela 8.1 da NBR 6118 (ABNT, 2014)\n",
    "Ecs = 2700  # Valores retirados da Tabela 8.1 da NBR 6118 (ABNT, 2014)\n",
    "Es = 20000\n",
    "alpha = 1.5\n",
    "h = 50\n",
    "bw = 25\n",
    "bf = bw\n",
    "hf = 0\n",
    "L = 500\n",
    "cob = 2.5\n",
    "fiEstribo = 5\n",
    "fiLongTrac = 12.5\n",
    "fiLongComp = 5\n",
    "AsTrac = 2*1.25\n",
    "AsComp = 2*0.20\n",
    "fy = 500\n",
    "# Determinação do fctm do concreto (MPa)\n",
    "fctm = 0.30*fck**(2/3)\n",
    "fctinf = 0.70*fctm\n",
    "# Determinação da relação entre módulos de elasticidade\n",
    "alfaE = Es/Eci\n",
    "# Determinação das alturas úteis \n",
    "d = h - (cob + fiEstribo/10 + fiLongTrac/2/10)\n",
    "dlinha = cob + fiEstribo/10 + fiLongComp/2/10 "
   ]
  },
  {
   "cell_type": "code",
   "execution_count": 3,
   "metadata": {},
   "outputs": [],
   "source": [
    "# Determinação das propriedades no Estádio I\n",
    "Ac, xi, Ii = propriedades_no_estadio_i(h, bf, bw, hf, AsTrac, alfaE, d)\n",
    "print('Área da seção (Ac)      = ', Ac, 'cm^2')\n",
    "print('Linha Neutra (x)        = ', xi, 'cm')\n",
    "print('Inércia Estádio I (Ii)  = ', Ii, 'cm^4')"
   ]
  },
  {
   "cell_type": "code",
   "execution_count": 4,
   "metadata": {},
   "outputs": [],
   "source": [
    "# Determinação das propriedades no Estádio II\n",
    "xii, Iii = propriedades_no_estadio_ii(h, bf, bw, hf, AsTrac, AsComp, alfaE, d, dlinha)\n",
    "print('Linha Neutra Estádio II  = ', xii, 'cm')\n",
    "print('Inércia Estádio II (Ii)  = ', Iii, 'cm^4')"
   ]
  },
  {
   "cell_type": "code",
   "execution_count": 5,
   "metadata": {},
   "outputs": [],
   "source": [
    "# Determinação da inércia para cada passo de momento\n",
    "flecha = []\n",
    "Md = []\n",
    "Pk = [0.0, 1.25/100, 4/100, 8.56/100, 15/100, 20/100, 30/100]\n",
    "Mr = 3273.131090457643\n",
    "for passo in Pk:\n",
    "    Mat = (passo*L**2)/8\n",
    "    print(Mat)\n",
    "    if Mat > Mr:\n",
    "        inerciaM = inercia_branson(Mr, Mat,Ii, Iii)\n",
    "        inercia = inerciaM\n",
    "    else:\n",
    "        inercia = Ii\n",
    "    EinerciaM = Ecs*inercia\n",
    "    print('inercia', inercia)\n",
    "    print('rigidez', EinerciaM)\n",
    "    valorFlecha = flecha_viga_bi(EinerciaM, passo, L)\n",
    "    flecha.append(valorFlecha)     \n",
    "print(flecha)"
   ]
  },
  {
   "cell_type": "code",
   "execution_count": 6,
   "metadata": {},
   "outputs": [
    {
     "data": {
      "image/png": "[encoded data removed]",
      "text/plain": [
       "<Figure size 432x288 with 1 Axes>"
      ]
     },
     "metadata": {
      "needs_background": "light"
     },
     "output_type": "display_data"
    }
   ],
   "source": [
    "plt.plot(flecha, Pk,'g--')\n",
    "plt.ylabel('Carga (kN/cm)', fontsize=15)\n",
    "plt.xlabel('Flecha ($cm$)', fontsize=15)\n",
    "plt.show()"
   ]
  }
 ],
 "metadata": {
  "kernelspec": {
   "display_name": "Python 3",
   "language": "python",
   "name": "python3"
  },
  "language_info": {
   "codemirror_mode": {
    "name": "ipython",
    "version": 3
   },
   "file_extension": ".py",
   "mimetype": "text/x-python",
   "name": "python",
   "nbconvert_exporter": "python",
   "pygments_lexer": "ipython3",
   "version": "3.8.3"
  }
 },
 "nbformat": 4,
 "nbformat_minor": 4
}
